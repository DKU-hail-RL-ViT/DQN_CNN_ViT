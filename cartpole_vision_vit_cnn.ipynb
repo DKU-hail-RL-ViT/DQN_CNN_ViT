{
  "cells": [
    {
      "cell_type": "markdown",
      "metadata": {
        "id": "P7dmGuNMSJ9o"
      },
      "source": [
        "# Cartpole stabilization via DQN and visual input\n",
        "\n",
        "A special thanks goes to gi`Adam Paszke <https://github.com/apaszke>`_, \n",
        "for a first implementation of the DQN algorithm with vision input in\n",
        "the Cartpole-V0 environment from OpenAI Gym.\n",
        "`Gym website <https://gym.openai.com/envs/CartPole-v0>`__.\n",
        "\n",
        "The goal of this project is to design a control system for stabilizing a\n",
        "Cart and Pole using Deep Reinforcement Learning, having only images as \n",
        "control inputs. We implement the vision-based control using the DQN algorithm\n",
        "combined with Convolutional Neural Network for Q-values approximation.\n",
        "\n",
        "The last two frames of the Cartpole are used as input, cropped and processed \n",
        "before using them in the Neural Network. In order to stabilize the training,\n",
        "we use an experience replay buffer as shown in the paper \"Playing Atari with\n",
        "Deep Reinforcement Learning:\n",
        " <https://www.cs.toronto.edu/~vmnih/docs/dqn.pdf>__.\n",
        "\n",
        "Besides, a target network to further stabilize the training process is used.\n",
        "make the training not converge, we set a threshold for stopping training\n",
        "when we detect stable improvements: this way we learn optimal behavior\n",
        "without saturation. "
      ]
    },
    {
      "cell_type": "code",
      "execution_count": null,
      "metadata": {
        "id": "EEE6KCibSJ9v"
      },
      "outputs": [],
      "source": [
        "import gym\n",
        "import math\n",
        "import random\n",
        "import numpy as np\n",
        "import matplotlib\n",
        "import matplotlib.pyplot as plt\n",
        "from collections import namedtuple\n",
        "from itertools import count\n",
        "from PIL import Image\n",
        "import torch\n",
        "import torch.nn as nn\n",
        "import torch.optim as optim\n",
        "import torch.nn.functional as F\n",
        "import torchvision.transforms as T\n",
        "from collections import deque\n",
        "import warnings\n",
        "warnings.filterwarnings('ignore')"
      ]
    },
    {
      "cell_type": "code",
      "source": [
        "pip install wandb"
      ],
      "metadata": {
        "colab": {
          "base_uri": "https://localhost:8080/"
        },
        "id": "m-yuxvohSYPq",
        "outputId": "e2db161a-6298-4418-d8b4-5100d16c3cf4"
      },
      "execution_count": null,
      "outputs": [
        {
          "output_type": "stream",
          "name": "stdout",
          "text": [
            "Looking in indexes: https://pypi.org/simple, https://us-python.pkg.dev/colab-wheels/public/simple/\n",
            "Requirement already satisfied: wandb in /usr/local/lib/python3.9/dist-packages (0.14.0)\n",
            "Requirement already satisfied: setuptools in /usr/local/lib/python3.9/dist-packages (from wandb) (67.6.1)\n",
            "Requirement already satisfied: GitPython!=3.1.29,>=1.0.0 in /usr/local/lib/python3.9/dist-packages (from wandb) (3.1.31)\n",
            "Requirement already satisfied: pathtools in /usr/local/lib/python3.9/dist-packages (from wandb) (0.1.2)\n",
            "Requirement already satisfied: PyYAML in /usr/local/lib/python3.9/dist-packages (from wandb) (6.0)\n",
            "Requirement already satisfied: docker-pycreds>=0.4.0 in /usr/local/lib/python3.9/dist-packages (from wandb) (0.4.0)\n",
            "Requirement already satisfied: appdirs>=1.4.3 in /usr/local/lib/python3.9/dist-packages (from wandb) (1.4.4)\n",
            "Requirement already satisfied: protobuf!=4.21.0,<5,>=3.15.0 in /usr/local/lib/python3.9/dist-packages (from wandb) (3.20.3)\n",
            "Requirement already satisfied: psutil>=5.0.0 in /usr/local/lib/python3.9/dist-packages (from wandb) (5.9.4)\n",
            "Requirement already satisfied: Click!=8.0.0,>=7.0 in /usr/local/lib/python3.9/dist-packages (from wandb) (8.1.3)\n",
            "Requirement already satisfied: sentry-sdk>=1.0.0 in /usr/local/lib/python3.9/dist-packages (from wandb) (1.18.0)\n",
            "Requirement already satisfied: setproctitle in /usr/local/lib/python3.9/dist-packages (from wandb) (1.3.2)\n",
            "Requirement already satisfied: typing-extensions in /usr/local/lib/python3.9/dist-packages (from wandb) (4.5.0)\n",
            "Requirement already satisfied: requests<3,>=2.0.0 in /usr/local/lib/python3.9/dist-packages (from wandb) (2.27.1)\n",
            "Requirement already satisfied: six>=1.4.0 in /usr/local/lib/python3.9/dist-packages (from docker-pycreds>=0.4.0->wandb) (1.16.0)\n",
            "Requirement already satisfied: gitdb<5,>=4.0.1 in /usr/local/lib/python3.9/dist-packages (from GitPython!=3.1.29,>=1.0.0->wandb) (4.0.10)\n",
            "Requirement already satisfied: idna<4,>=2.5 in /usr/local/lib/python3.9/dist-packages (from requests<3,>=2.0.0->wandb) (3.4)\n",
            "Requirement already satisfied: urllib3<1.27,>=1.21.1 in /usr/local/lib/python3.9/dist-packages (from requests<3,>=2.0.0->wandb) (1.26.15)\n",
            "Requirement already satisfied: charset-normalizer~=2.0.0 in /usr/local/lib/python3.9/dist-packages (from requests<3,>=2.0.0->wandb) (2.0.12)\n",
            "Requirement already satisfied: certifi>=2017.4.17 in /usr/local/lib/python3.9/dist-packages (from requests<3,>=2.0.0->wandb) (2022.12.7)\n",
            "Requirement already satisfied: smmap<6,>=3.0.1 in /usr/local/lib/python3.9/dist-packages (from gitdb<5,>=4.0.1->GitPython!=3.1.29,>=1.0.0->wandb) (5.0.0)\n"
          ]
        }
      ]
    },
    {
      "cell_type": "code",
      "execution_count": null,
      "metadata": {
        "colab": {
          "base_uri": "https://localhost:8080/",
          "height": 141
        },
        "id": "OFvGrMeySJ9w",
        "outputId": "d4964c20-32b1-4a13-a5db-06ade11b8db0"
      },
      "outputs": [
        {
          "output_type": "stream",
          "name": "stderr",
          "text": [
            "\u001b[34m\u001b[1mwandb\u001b[0m: Currently logged in as: \u001b[33mdark_knight_21th\u001b[0m. Use \u001b[1m`wandb login --relogin`\u001b[0m to force relogin\n"
          ]
        },
        {
          "output_type": "display_data",
          "data": {
            "text/plain": [
              "<IPython.core.display.HTML object>"
            ],
            "text/html": [
              "Tracking run with wandb version 0.14.0"
            ]
          },
          "metadata": {}
        },
        {
          "output_type": "display_data",
          "data": {
            "text/plain": [
              "<IPython.core.display.HTML object>"
            ],
            "text/html": [
              "Run data is saved locally in <code>/content/wandb/run-20230403_162403-legfvtcd</code>"
            ]
          },
          "metadata": {}
        },
        {
          "output_type": "display_data",
          "data": {
            "text/plain": [
              "<IPython.core.display.HTML object>"
            ],
            "text/html": [
              "Syncing run <strong><a href='https://wandb.ai/dark_knight_21th/cartpole-v4/runs/legfvtcd' target=\"_blank\">prime-sunset-13</a></strong> to <a href='https://wandb.ai/dark_knight_21th/cartpole-v4' target=\"_blank\">Weights & Biases</a> (<a href='https://wandb.me/run' target=\"_blank\">docs</a>)<br/>"
            ]
          },
          "metadata": {}
        },
        {
          "output_type": "display_data",
          "data": {
            "text/plain": [
              "<IPython.core.display.HTML object>"
            ],
            "text/html": [
              " View project at <a href='https://wandb.ai/dark_knight_21th/cartpole-v4' target=\"_blank\">https://wandb.ai/dark_knight_21th/cartpole-v4</a>"
            ]
          },
          "metadata": {}
        },
        {
          "output_type": "display_data",
          "data": {
            "text/plain": [
              "<IPython.core.display.HTML object>"
            ],
            "text/html": [
              " View run at <a href='https://wandb.ai/dark_knight_21th/cartpole-v4/runs/legfvtcd' target=\"_blank\">https://wandb.ai/dark_knight_21th/cartpole-v4/runs/legfvtcd</a>"
            ]
          },
          "metadata": {}
        },
        {
          "output_type": "execute_result",
          "data": {
            "text/html": [
              "<button onClick=\"this.nextSibling.style.display='block';this.style.display='none';\">Display W&B run</button><iframe src='https://wandb.ai/dark_knight_21th/cartpole-v4/runs/legfvtcd?jupyter=true' style='border:none;width:100%;height:420px;display:none;'></iframe>"
            ],
            "text/plain": [
              "<wandb.sdk.wandb_run.Run at 0x7ff17b0b5a30>"
            ]
          },
          "metadata": {},
          "execution_count": 3
        }
      ],
      "source": [
        "# Wandb\n",
        "import wandb\n",
        "wandb.init(project=\"cartpole-v4\")"
      ]
    },
    {
      "cell_type": "code",
      "source": [
        "pip install einops"
      ],
      "metadata": {
        "colab": {
          "base_uri": "https://localhost:8080/"
        },
        "id": "3bEK0cgLE1KQ",
        "outputId": "087b623b-a291-42e3-b3e3-5b8d106e2fef"
      },
      "execution_count": null,
      "outputs": [
        {
          "output_type": "stream",
          "name": "stdout",
          "text": [
            "Looking in indexes: https://pypi.org/simple, https://us-python.pkg.dev/colab-wheels/public/simple/\n",
            "Requirement already satisfied: einops in /usr/local/lib/python3.9/dist-packages (0.6.0)\n"
          ]
        }
      ]
    },
    {
      "cell_type": "markdown",
      "metadata": {
        "id": "X8h_RVp5SJ9y"
      },
      "source": [
        "Hyperparamee"
      ]
    },
    {
      "cell_type": "markdown",
      "source": [
        "#ViT"
      ],
      "metadata": {
        "id": "zFsMSTxSEmyB"
      }
    },
    {
      "cell_type": "code",
      "source": [
        "import torch\n",
        "import torch.nn.functional as F\n",
        "import matplotlib.pyplot as plt\n",
        "\n",
        "from torch import nn\n",
        "from torch import Tensor\n",
        "from PIL import Image\n",
        "#from torchvision.transforms import Compose, Resize, ToTensor\n",
        "from einops import rearrange, reduce, repeat\n",
        "from einops.layers.torch import Rearrange, Reduce\n",
        "import torchvision.transforms as T\n",
        "from torchsummary import summary"
      ],
      "metadata": {
        "id": "0IG6oE4_Ey8D"
      },
      "execution_count": null,
      "outputs": []
    },
    {
      "cell_type": "code",
      "source": [
        "class PatchEmbedding(nn.Module):\n",
        "    def __init__(self, in_channels: int = 2, patch_size: int = 15, emb_size: int = 765, img_size: int = [60,135]):\n",
        "        self.patch_size = patch_size\n",
        "        super().__init__()\n",
        "        self.projection = nn.Sequential(\n",
        "            # using a conv layer instead of a linear one -> performance gains\n",
        "            nn.Conv2d(in_channels, emb_size, kernel_size=patch_size, stride=patch_size),\n",
        "            Rearrange('b e (h) (w) -> b (h w) e'),\n",
        "        )\n",
        "        self.cls_token = nn.Parameter(torch.randn(1,1, emb_size))\n",
        "        self.positions = nn.Parameter(torch.randn(((img_size[0] // patch_size)*(img_size[1] // patch_size))+1, emb_size))\n",
        "        \n",
        "    def forward(self, x: Tensor) -> Tensor:\n",
        "       \n",
        "        b, _, _, _ = x.shape\n",
        "        x = self.projection(x)\n",
        "        cls_tokens = repeat(self.cls_token, '() n e -> b n e', b=b)\n",
        "        # prepend the cls token to the input\n",
        "        x = torch.cat([cls_tokens, x], dim=1)\n",
        "        # add position embedding\n",
        "        \n",
        "        x += self.positions\n",
        "\n",
        "        return x"
      ],
      "metadata": {
        "id": "UzKEj9ZQEeD3"
      },
      "execution_count": null,
      "outputs": []
    },
    {
      "cell_type": "code",
      "source": [
        "class MultiHeadAttention(nn.Module):\n",
        "    def __init__(self, emb_size: int = 765, num_heads: int = 5, dropout: float = 0):\n",
        "        super().__init__()\n",
        "        self.emb_size = emb_size\n",
        "        self.num_heads = num_heads\n",
        "        # fuse the queries, keys and values in one matrix\n",
        "        self.qkv = nn.Linear(emb_size, emb_size * 3)\n",
        "        self.att_drop = nn.Dropout(dropout)\n",
        "        self.projection = nn.Linear(emb_size, emb_size)\n",
        "        self.scaling = (self.emb_size // num_heads) ** -0.5\n",
        "\n",
        "        \n",
        "    def forward(self, x : Tensor, mask: Tensor = None) -> Tensor:\n",
        "        # split keys, queries and values in num_heads\n",
        "        qkv = rearrange(self.qkv(x), \"b n (h d qkv) -> (qkv) b h n d\", h=self.num_heads, qkv=3)\n",
        "        queries, keys, values = qkv[0], qkv[1], qkv[2]\n",
        "        # sum up over the last axis\n",
        "        energy = torch.einsum('bhqd, bhkd -> bhqk', queries, keys) # batch, num_heads, query_len, key_len\n",
        "        if mask is not None:\n",
        "            fill_value = torch.finfo(torch.float32).min\n",
        "            energy.mask_fill(~mask, fill_value)\n",
        "            \n",
        "       \n",
        "        att = F.softmax(energy * self.scaling, dim=-1)\n",
        "        att = self.att_drop(att)\n",
        "        # sum up over the third axis\n",
        "        out = torch.einsum('bhal, bhlv -> bhav ', att, values)\n",
        "        out = rearrange(out, \"b h n d -> b n (h d)\")\n",
        "        out = self.projection(out)\n",
        "        return out"
      ],
      "metadata": {
        "id": "AwJZyD_jE-dP"
      },
      "execution_count": null,
      "outputs": []
    },
    {
      "cell_type": "code",
      "source": [
        "class ResidualAdd(nn.Module):\n",
        "    def __init__(self, fn):\n",
        "        super().__init__()\n",
        "        self.fn = fn\n",
        "        \n",
        "    def forward(self, x, **kwargs):\n",
        "        res = x\n",
        "        x = self.fn(x, **kwargs)\n",
        "        x += res\n",
        "        return x"
      ],
      "metadata": {
        "id": "dztC-fMxE-oJ"
      },
      "execution_count": null,
      "outputs": []
    },
    {
      "cell_type": "code",
      "source": [
        "class FeedForwardBlock(nn.Sequential): #MLP\n",
        "    def __init__(self, emb_size: int, expansion: int = 4, drop_p: float = 0.):\n",
        "        super().__init__(\n",
        "            nn.Linear(emb_size, expansion * emb_size),\n",
        "            nn.GELU(),\n",
        "            nn.Dropout(drop_p),\n",
        "            nn.Linear(expansion * emb_size, emb_size),\n",
        "        )"
      ],
      "metadata": {
        "id": "um0uRbL9FOJW"
      },
      "execution_count": null,
      "outputs": []
    },
    {
      "cell_type": "code",
      "source": [
        "class TransformerEncoderBlock(nn.Sequential):\n",
        "    def __init__(self,\n",
        "                 emb_size: int = 765,\n",
        "                 drop_p: float = 0.,\n",
        "                 forward_expansion: int = 4,\n",
        "                 forward_drop_p: float = 0.,\n",
        "                 ** kwargs):\n",
        "        super().__init__(\n",
        "            ResidualAdd(nn.Sequential(\n",
        "                nn.LayerNorm(emb_size),\n",
        "                MultiHeadAttention(emb_size, **kwargs),\n",
        "                nn.Dropout(drop_p)\n",
        "            )),\n",
        "            ResidualAdd(nn.Sequential(\n",
        "                nn.LayerNorm(emb_size),\n",
        "                FeedForwardBlock(\n",
        "                    emb_size, expansion=forward_expansion, drop_p=forward_drop_p),\n",
        "                nn.Dropout(drop_p)\n",
        "            )\n",
        "            ))"
      ],
      "metadata": {
        "id": "FPDHMeCFFQ8K"
      },
      "execution_count": null,
      "outputs": []
    },
    {
      "cell_type": "code",
      "source": [
        "class TransformerEncoder(nn.Sequential):\n",
        "    def __init__(self, depth: int = 3, **kwargs):\n",
        "        super().__init__(*[TransformerEncoderBlock(**kwargs) for _ in range(depth)])"
      ],
      "metadata": {
        "id": "y80XjsulFT2X"
      },
      "execution_count": null,
      "outputs": []
    },
    {
      "cell_type": "code",
      "source": [
        "class ViT(nn.Sequential):\n",
        "    def __init__(self,     \n",
        "                in_channels: int = 2,\n",
        "                patch_size: int = 15,\n",
        "                emb_size: int = 765,\n",
        "                img_size: int = [60,135],\n",
        "                depth: int = 3,\n",
        "               \n",
        "                **kwargs):\n",
        "        super().__init__(\n",
        "            PatchEmbedding(in_channels, patch_size, emb_size, img_size),\n",
        "            TransformerEncoder(depth, emb_size=emb_size, **kwargs),\n",
        "           \n",
        "        )\n",
        "        \n",
        "summary(ViT(), (2, 60, 135), device='cpu')"
      ],
      "metadata": {
        "colab": {
          "base_uri": "https://localhost:8080/"
        },
        "id": "2TVHoXN8FX2F",
        "outputId": "29c44afc-ef72-4588-bac4-c76bac00b6a4"
      },
      "execution_count": null,
      "outputs": [
        {
          "output_type": "stream",
          "name": "stdout",
          "text": [
            "----------------------------------------------------------------\n",
            "        Layer (type)               Output Shape         Param #\n",
            "================================================================\n",
            "            Conv2d-1            [-1, 765, 4, 9]         345,015\n",
            "         Rearrange-2              [-1, 36, 765]               0\n",
            "    PatchEmbedding-3              [-1, 37, 765]               0\n",
            "         LayerNorm-4              [-1, 37, 765]           1,530\n",
            "            Linear-5             [-1, 37, 2295]       1,757,970\n",
            "           Dropout-6            [-1, 5, 37, 37]               0\n",
            "            Linear-7              [-1, 37, 765]         585,990\n",
            "MultiHeadAttention-8              [-1, 37, 765]               0\n",
            "           Dropout-9              [-1, 37, 765]               0\n",
            "      ResidualAdd-10              [-1, 37, 765]               0\n",
            "        LayerNorm-11              [-1, 37, 765]           1,530\n",
            "           Linear-12             [-1, 37, 3060]       2,343,960\n",
            "             GELU-13             [-1, 37, 3060]               0\n",
            "          Dropout-14             [-1, 37, 3060]               0\n",
            "           Linear-15              [-1, 37, 765]       2,341,665\n",
            "          Dropout-16              [-1, 37, 765]               0\n",
            "      ResidualAdd-17              [-1, 37, 765]               0\n",
            "        LayerNorm-18              [-1, 37, 765]           1,530\n",
            "           Linear-19             [-1, 37, 2295]       1,757,970\n",
            "          Dropout-20            [-1, 5, 37, 37]               0\n",
            "           Linear-21              [-1, 37, 765]         585,990\n",
            "MultiHeadAttention-22              [-1, 37, 765]               0\n",
            "          Dropout-23              [-1, 37, 765]               0\n",
            "      ResidualAdd-24              [-1, 37, 765]               0\n",
            "        LayerNorm-25              [-1, 37, 765]           1,530\n",
            "           Linear-26             [-1, 37, 3060]       2,343,960\n",
            "             GELU-27             [-1, 37, 3060]               0\n",
            "          Dropout-28             [-1, 37, 3060]               0\n",
            "           Linear-29              [-1, 37, 765]       2,341,665\n",
            "          Dropout-30              [-1, 37, 765]               0\n",
            "      ResidualAdd-31              [-1, 37, 765]               0\n",
            "        LayerNorm-32              [-1, 37, 765]           1,530\n",
            "           Linear-33             [-1, 37, 2295]       1,757,970\n",
            "          Dropout-34            [-1, 5, 37, 37]               0\n",
            "           Linear-35              [-1, 37, 765]         585,990\n",
            "MultiHeadAttention-36              [-1, 37, 765]               0\n",
            "          Dropout-37              [-1, 37, 765]               0\n",
            "      ResidualAdd-38              [-1, 37, 765]               0\n",
            "        LayerNorm-39              [-1, 37, 765]           1,530\n",
            "           Linear-40             [-1, 37, 3060]       2,343,960\n",
            "             GELU-41             [-1, 37, 3060]               0\n",
            "          Dropout-42             [-1, 37, 3060]               0\n",
            "           Linear-43              [-1, 37, 765]       2,341,665\n",
            "          Dropout-44              [-1, 37, 765]               0\n",
            "      ResidualAdd-45              [-1, 37, 765]               0\n",
            "        LayerNorm-46              [-1, 37, 765]           1,530\n",
            "           Linear-47             [-1, 37, 2295]       1,757,970\n",
            "          Dropout-48            [-1, 5, 37, 37]               0\n",
            "           Linear-49              [-1, 37, 765]         585,990\n",
            "MultiHeadAttention-50              [-1, 37, 765]               0\n",
            "          Dropout-51              [-1, 37, 765]               0\n",
            "      ResidualAdd-52              [-1, 37, 765]               0\n",
            "        LayerNorm-53              [-1, 37, 765]           1,530\n",
            "           Linear-54             [-1, 37, 3060]       2,343,960\n",
            "             GELU-55             [-1, 37, 3060]               0\n",
            "          Dropout-56             [-1, 37, 3060]               0\n",
            "           Linear-57              [-1, 37, 765]       2,341,665\n",
            "          Dropout-58              [-1, 37, 765]               0\n",
            "      ResidualAdd-59              [-1, 37, 765]               0\n",
            "        LayerNorm-60              [-1, 37, 765]           1,530\n",
            "           Linear-61             [-1, 37, 2295]       1,757,970\n",
            "          Dropout-62            [-1, 5, 37, 37]               0\n",
            "           Linear-63              [-1, 37, 765]         585,990\n",
            "MultiHeadAttention-64              [-1, 37, 765]               0\n",
            "          Dropout-65              [-1, 37, 765]               0\n",
            "      ResidualAdd-66              [-1, 37, 765]               0\n",
            "        LayerNorm-67              [-1, 37, 765]           1,530\n",
            "           Linear-68             [-1, 37, 3060]       2,343,960\n",
            "             GELU-69             [-1, 37, 3060]               0\n",
            "          Dropout-70             [-1, 37, 3060]               0\n",
            "           Linear-71              [-1, 37, 765]       2,341,665\n",
            "          Dropout-72              [-1, 37, 765]               0\n",
            "      ResidualAdd-73              [-1, 37, 765]               0\n",
            "        LayerNorm-74              [-1, 37, 765]           1,530\n",
            "           Linear-75             [-1, 37, 2295]       1,757,970\n",
            "          Dropout-76            [-1, 5, 37, 37]               0\n",
            "           Linear-77              [-1, 37, 765]         585,990\n",
            "MultiHeadAttention-78              [-1, 37, 765]               0\n",
            "          Dropout-79              [-1, 37, 765]               0\n",
            "      ResidualAdd-80              [-1, 37, 765]               0\n",
            "        LayerNorm-81              [-1, 37, 765]           1,530\n",
            "           Linear-82             [-1, 37, 3060]       2,343,960\n",
            "             GELU-83             [-1, 37, 3060]               0\n",
            "          Dropout-84             [-1, 37, 3060]               0\n",
            "           Linear-85              [-1, 37, 765]       2,341,665\n",
            "          Dropout-86              [-1, 37, 765]               0\n",
            "      ResidualAdd-87              [-1, 37, 765]               0\n",
            "        LayerNorm-88              [-1, 37, 765]           1,530\n",
            "           Linear-89             [-1, 37, 2295]       1,757,970\n",
            "          Dropout-90            [-1, 5, 37, 37]               0\n",
            "           Linear-91              [-1, 37, 765]         585,990\n",
            "MultiHeadAttention-92              [-1, 37, 765]               0\n",
            "          Dropout-93              [-1, 37, 765]               0\n",
            "      ResidualAdd-94              [-1, 37, 765]               0\n",
            "        LayerNorm-95              [-1, 37, 765]           1,530\n",
            "           Linear-96             [-1, 37, 3060]       2,343,960\n",
            "             GELU-97             [-1, 37, 3060]               0\n",
            "          Dropout-98             [-1, 37, 3060]               0\n",
            "           Linear-99              [-1, 37, 765]       2,341,665\n",
            "         Dropout-100              [-1, 37, 765]               0\n",
            "     ResidualAdd-101              [-1, 37, 765]               0\n",
            "       LayerNorm-102              [-1, 37, 765]           1,530\n",
            "          Linear-103             [-1, 37, 2295]       1,757,970\n",
            "         Dropout-104            [-1, 5, 37, 37]               0\n",
            "          Linear-105              [-1, 37, 765]         585,990\n",
            "MultiHeadAttention-106              [-1, 37, 765]               0\n",
            "         Dropout-107              [-1, 37, 765]               0\n",
            "     ResidualAdd-108              [-1, 37, 765]               0\n",
            "       LayerNorm-109              [-1, 37, 765]           1,530\n",
            "          Linear-110             [-1, 37, 3060]       2,343,960\n",
            "            GELU-111             [-1, 37, 3060]               0\n",
            "         Dropout-112             [-1, 37, 3060]               0\n",
            "          Linear-113              [-1, 37, 765]       2,341,665\n",
            "         Dropout-114              [-1, 37, 765]               0\n",
            "     ResidualAdd-115              [-1, 37, 765]               0\n",
            "       LayerNorm-116              [-1, 37, 765]           1,530\n",
            "          Linear-117             [-1, 37, 2295]       1,757,970\n",
            "         Dropout-118            [-1, 5, 37, 37]               0\n",
            "          Linear-119              [-1, 37, 765]         585,990\n",
            "MultiHeadAttention-120              [-1, 37, 765]               0\n",
            "         Dropout-121              [-1, 37, 765]               0\n",
            "     ResidualAdd-122              [-1, 37, 765]               0\n",
            "       LayerNorm-123              [-1, 37, 765]           1,530\n",
            "          Linear-124             [-1, 37, 3060]       2,343,960\n",
            "            GELU-125             [-1, 37, 3060]               0\n",
            "         Dropout-126             [-1, 37, 3060]               0\n",
            "          Linear-127              [-1, 37, 765]       2,341,665\n",
            "         Dropout-128              [-1, 37, 765]               0\n",
            "     ResidualAdd-129              [-1, 37, 765]               0\n",
            "       LayerNorm-130              [-1, 37, 765]           1,530\n",
            "          Linear-131             [-1, 37, 2295]       1,757,970\n",
            "         Dropout-132            [-1, 5, 37, 37]               0\n",
            "          Linear-133              [-1, 37, 765]         585,990\n",
            "MultiHeadAttention-134              [-1, 37, 765]               0\n",
            "         Dropout-135              [-1, 37, 765]               0\n",
            "     ResidualAdd-136              [-1, 37, 765]               0\n",
            "       LayerNorm-137              [-1, 37, 765]           1,530\n",
            "          Linear-138             [-1, 37, 3060]       2,343,960\n",
            "            GELU-139             [-1, 37, 3060]               0\n",
            "         Dropout-140             [-1, 37, 3060]               0\n",
            "          Linear-141              [-1, 37, 765]       2,341,665\n",
            "         Dropout-142              [-1, 37, 765]               0\n",
            "     ResidualAdd-143              [-1, 37, 765]               0\n",
            "       LayerNorm-144              [-1, 37, 765]           1,530\n",
            "          Linear-145             [-1, 37, 2295]       1,757,970\n",
            "         Dropout-146            [-1, 5, 37, 37]               0\n",
            "          Linear-147              [-1, 37, 765]         585,990\n",
            "MultiHeadAttention-148              [-1, 37, 765]               0\n",
            "         Dropout-149              [-1, 37, 765]               0\n",
            "     ResidualAdd-150              [-1, 37, 765]               0\n",
            "       LayerNorm-151              [-1, 37, 765]           1,530\n",
            "          Linear-152             [-1, 37, 3060]       2,343,960\n",
            "            GELU-153             [-1, 37, 3060]               0\n",
            "         Dropout-154             [-1, 37, 3060]               0\n",
            "          Linear-155              [-1, 37, 765]       2,341,665\n",
            "         Dropout-156              [-1, 37, 765]               0\n",
            "     ResidualAdd-157              [-1, 37, 765]               0\n",
            "       LayerNorm-158              [-1, 37, 765]           1,530\n",
            "          Linear-159             [-1, 37, 2295]       1,757,970\n",
            "         Dropout-160            [-1, 5, 37, 37]               0\n",
            "          Linear-161              [-1, 37, 765]         585,990\n",
            "MultiHeadAttention-162              [-1, 37, 765]               0\n",
            "         Dropout-163              [-1, 37, 765]               0\n",
            "     ResidualAdd-164              [-1, 37, 765]               0\n",
            "       LayerNorm-165              [-1, 37, 765]           1,530\n",
            "          Linear-166             [-1, 37, 3060]       2,343,960\n",
            "            GELU-167             [-1, 37, 3060]               0\n",
            "         Dropout-168             [-1, 37, 3060]               0\n",
            "          Linear-169              [-1, 37, 765]       2,341,665\n",
            "         Dropout-170              [-1, 37, 765]               0\n",
            "     ResidualAdd-171              [-1, 37, 765]               0\n",
            "================================================================\n",
            "Total params: 84,736,755\n",
            "Trainable params: 84,736,755\n",
            "Non-trainable params: 0\n",
            "----------------------------------------------------------------\n",
            "Input size (MB): 0.06\n",
            "Forward/backward pass size (MB): 63.46\n",
            "Params size (MB): 323.25\n",
            "Estimated Total Size (MB): 386.76\n",
            "----------------------------------------------------------------\n"
          ]
        }
      ]
    },
    {
      "cell_type": "code",
      "source": [
        "#연습\n",
        "model = ViT()\n",
        "x = torch.randn(1, 2, 60, 135)\n",
        "\n",
        "res = model(x)\n",
        "res= res.view(res.size(0),-1)\n",
        "\n",
        "\n",
        "head = nn.Linear(28305,2)\n",
        "model(x).shape,res.shape,head(torch.flatten(model(x))),head(res)"
      ],
      "metadata": {
        "colab": {
          "base_uri": "https://localhost:8080/"
        },
        "id": "-nR3gidQiYfa",
        "outputId": "23615cb8-e24e-4c3c-f5b0-60227c298885"
      },
      "execution_count": null,
      "outputs": [
        {
          "output_type": "execute_result",
          "data": {
            "text/plain": [
              "(torch.Size([1, 37, 765]),\n",
              " torch.Size([1, 28305]),\n",
              " tensor([0.6121, 1.4884], grad_fn=<AddBackward0>),\n",
              " tensor([[0.6121, 1.4884]], grad_fn=<AddmmBackward0>))"
            ]
          },
          "metadata": {},
          "execution_count": 13
        }
      ]
    },
    {
      "cell_type": "markdown",
      "metadata": {
        "id": "pzezgo5KSJ9y"
      },
      "source": [
        "# Parameters"
      ]
    },
    {
      "cell_type": "code",
      "execution_count": null,
      "metadata": {
        "id": "nvcNhga0SJ9y"
      },
      "outputs": [],
      "source": [
        "############ HYPERPARAMETERS ##############\n",
        "BATCH_SIZE = 128 # original = 128\n",
        "GAMMA = 0.999 # original = 0.999\n",
        "EPS_START = 0.9 # original = 0.9\n",
        "EPS_END = 0.01 # original = 0.05\n",
        "EPS_DECAY = 3000 # original = 200\n",
        "TARGET_UPDATE = 50 # original = 10\n",
        "MEMORY_SIZE = 100000 # original = 10000\n",
        "END_SCORE = 200 # 200 for Cartpole-v0\n",
        "TRAINING_STOP = 142 # threshold for training stop\n",
        "N_EPISODES = 50000 # total episodes to be run\n",
        "LAST_EPISODES_NUM = 20 # number of episodes for stopping training\n",
        "FRAMES = 2 # state is the number of last frames: the more frames, \n",
        "# the more the state is detailed (still Markovian)\n",
        "RESIZE_PIXELS = 60 # Downsample image to this number of pixels\n",
        "\n",
        "# ---- CONVOLUTIONAL NEURAL NETWORK ----\n",
        "HIDDEN_LAYER_1 = 64\n",
        "HIDDEN_LAYER_2 = 64 \n",
        "HIDDEN_LAYER_3 = 32\n",
        "KERNEL_SIZE = 5 # original = 5\n",
        "STRIDE = 2 # original = 2\n",
        "# --------------------------------------\n",
        "\n",
        "GRAYSCALE = True # False is RGB\n",
        "LOAD_MODEL = False # If we want to load the model, Default= False\n",
        "USE_CUDA = True # If we want to use GPU (powerful one needed!)\n",
        "############################################\n"
      ]
    },
    {
      "cell_type": "code",
      "execution_count": null,
      "metadata": {
        "id": "6Q8vgju9SJ9z"
      },
      "outputs": [],
      "source": [
        "graph_name = 'cartpole_vision'\n",
        "device = torch.device(\"cuda\" if (torch.cuda.is_available() and USE_CUDA) else \"cpu\")"
      ]
    },
    {
      "cell_type": "code",
      "execution_count": null,
      "metadata": {
        "id": "JpamHkj0SJ9z"
      },
      "outputs": [],
      "source": [
        "\n",
        "# Settings for GRAYSCALE / RGB\n",
        "if GRAYSCALE == 0:\n",
        "    resize = T.Compose([T.ToPILImage(), \n",
        "                    T.Resize((RESIZE_PIXELS), interpolation=Image.CUBIC),\n",
        "                    T.ToTensor()])\n",
        "    \n",
        "    nn_inputs = 3*FRAMES  # number of channels for the nn\n",
        "else:\n",
        "    resize = T.Compose([T.ToPILImage(),\n",
        "                    T.Resize((RESIZE_PIXELS), interpolation=Image.CUBIC),\n",
        "                    T.Grayscale(),\n",
        "                    T.ToTensor()])\n",
        "    nn_inputs =  FRAMES # number of channels for the nn\n",
        "\n",
        "                    \n",
        "stop_training = False \n",
        "\n",
        "env = gym.make(\"CartPole-v0\").unwrapped \n",
        "\n",
        "# Set up matplotlib\n",
        "is_ipython = 'inline' in matplotlib.get_backend()\n",
        "if is_ipython:\n",
        "    from IPython import display\n",
        "\n",
        "plt.ion()\n",
        "\n",
        "# If gpu is to be used\n",
        "\n",
        "Transition = namedtuple('Transition',\n",
        "                        ('state', 'action', 'next_state', 'reward'))"
      ]
    },
    {
      "cell_type": "markdown",
      "metadata": {
        "id": "kQexBb7ISJ90"
      },
      "source": [
        "## Build Experience Replay Buffer and Convolutional Neural Network"
      ]
    },
    {
      "cell_type": "code",
      "execution_count": null,
      "metadata": {
        "id": "NA-V13hLSJ91"
      },
      "outputs": [],
      "source": [
        "# Memory for Experience Replay\n",
        "class ReplayMemory(object):\n",
        "\n",
        "    def __init__(self, capacity):\n",
        "        self.capacity = capacity\n",
        "        self.memory = []\n",
        "        self.position = 0\n",
        "\n",
        "    def push(self, *args):\n",
        "        \"\"\"Saves a transition.\"\"\"\n",
        "        if len(self.memory) < self.capacity:\n",
        "            self.memory.append(None) # if we haven't reached full capacity, we append a new transition\n",
        "        self.memory[self.position] = Transition(*args)  \n",
        "        self.position = (self.position + 1) % self.capacity # e.g if the capacity is 100, and our position is now 101, we don't append to\n",
        "        # position 101 (impossible), but to position 1 (its remainder), overwriting old data\n",
        "\n",
        "    def sample(self, batch_size):\n",
        "        return random.sample(self.memory, batch_size) \n",
        "\n",
        "    def __len__(self): \n",
        "        return len(self.memory)"
      ]
    },
    {
      "cell_type": "code",
      "execution_count": null,
      "metadata": {
        "id": "_CxvjKiLSJ91"
      },
      "outputs": [],
      "source": [
        "# Build CNN\n",
        "class DQN(nn.Module):\n",
        "\n",
        "    def __init__(self, h, w, outputs):\n",
        "        super(DQN, self).__init__()\n",
        "        self.conv1 = nn.Conv2d(nn_inputs, HIDDEN_LAYER_1, kernel_size=KERNEL_SIZE, stride=STRIDE) \n",
        "        self.bn1 = nn.BatchNorm2d(HIDDEN_LAYER_1)\n",
        "        self.conv2 = nn.Conv2d(HIDDEN_LAYER_1, HIDDEN_LAYER_2, kernel_size=KERNEL_SIZE, stride=STRIDE)\n",
        "        self.bn2 = nn.BatchNorm2d(HIDDEN_LAYER_2)\n",
        "        self.conv3 = nn.Conv2d(HIDDEN_LAYER_2, HIDDEN_LAYER_3, kernel_size=KERNEL_SIZE, stride=STRIDE)\n",
        "        self.bn3 = nn.BatchNorm2d(HIDDEN_LAYER_3)\n",
        "        # Number of Linear input connections depends on output of conv2d layers\n",
        "        # and therefore the input image size, so compute it.\n",
        "        def conv2d_size_out(size, kernel_size = KERNEL_SIZE, stride = STRIDE):\n",
        "            return (size - (kernel_size - 1) - 1) // stride  + 1\n",
        "        convw = conv2d_size_out(conv2d_size_out(conv2d_size_out(w)))\n",
        "        convh = conv2d_size_out(conv2d_size_out(conv2d_size_out(h)))\n",
        "        linear_input_size = convw * convh * 32\n",
        "        nn.Dropout()\n",
        "        \n",
        "        #print(\"인풋 사이즈\",linear_input_size)\n",
        "        self.head = nn.Linear(linear_input_size, outputs)\n",
        "\n",
        "    # Called with either one element to determine next action, or a batch\n",
        "    # during optimization. Returns tensor([[left0exp,right0exp]...]).\n",
        "    def forward(self, x):\n",
        "        x = F.relu(self.bn1(self.conv1(x)))\n",
        "        x = F.relu(self.bn2(self.conv2(x)))\n",
        "        x = F.relu(self.bn3(self.conv3(x)))\n",
        "        y = self.head(x.view(x.size(0), -1))\n",
        "        #print(\"info\",x.shape,x.size(0),x.view(x.size(0), -1).shape,y.shape)\n",
        "        return self.head(x.view(x.size(0), -1))\n"
      ]
    },
    {
      "cell_type": "code",
      "source": [
        "#Build vision-transformer 3 depth\n",
        "class DQN2(nn.Module):    \n",
        "    \n",
        "    def __init__(self, h, w, outputs):\n",
        "        super(DQN2, self).__init__()\n",
        "        self.model = ViT()\n",
        "        nn.Dropout()\n",
        "        ex = torch.randn(1, FRAMES, h, w)\n",
        "        linear_input_size = torch.flatten(model(ex)).shape[0]\n",
        "        self.head = nn.Linear(linear_input_size, outputs)\n",
        "\n",
        "    # Called with either one element to determine next action, or a batch\n",
        "    # during optimization. Returns tensor([[left0exp,right0exp]...]).\n",
        "    def forward(self, x):\n",
        "       \n",
        "        x = self.model(x)\n",
        "      \n",
        "        \n",
        "        return self.head(x.view(x.size(0),-1))"
      ],
      "metadata": {
        "id": "VGeHieQYj3kf"
      },
      "execution_count": null,
      "outputs": []
    },
    {
      "cell_type": "code",
      "execution_count": null,
      "metadata": {
        "id": "3Ugtm3HKSJ92"
      },
      "outputs": [],
      "source": [
        "# Cart location for centering image crop\n",
        "def get_cart_location(screen_width):\n",
        "    world_width = env.x_threshold * 2\n",
        "    scale = screen_width / world_width\n",
        "    return int(env.state[0] * scale + screen_width / 2.0)  # MIDDLE OF CART\n",
        "\n",
        "# Cropping, downsampling (and Grayscaling) image\n",
        "def get_screen():\n",
        "    # Returned screen requested by gym is 400x600x3, but is sometimes larger\n",
        "    # such as 800x1200x3. Transpose it into torch order (CHW).\n",
        "    screen = np.array(env.render(mode='rgb_array')).transpose((2, 0, 1))\n",
        "    # Cart is in the lower half, so strip off the top and bottom of the screen\n",
        "    _, screen_height, screen_width = screen.shape\n",
        "    screen = screen[:, int(screen_height*0.4):int(screen_height * 0.8)]\n",
        "    view_width = int(screen_width * 0.6)\n",
        "    cart_location = get_cart_location(screen_width)\n",
        "    if cart_location < view_width // 2:\n",
        "        slice_range = slice(view_width)\n",
        "    elif cart_location > (screen_width - view_width // 2):\n",
        "        slice_range = slice(-view_width, None)\n",
        "    else:\n",
        "        slice_range = slice(cart_location - view_width // 2,\n",
        "                            cart_location + view_width // 2)\n",
        "    # Strip off the edges, so that we have a square image centered on a cart\n",
        "    screen = screen[:, :, slice_range]\n",
        "    # Convert to float, rescale, convert to torch tensor\n",
        "    # (this doesn't require a copy)\n",
        "    screen = np.ascontiguousarray(screen, dtype=np.float32) / 255\n",
        "    screen = torch.from_numpy(screen)\n",
        "    # Resize, and add a batch dimension (BCHW)\n",
        "    return resize(screen).unsqueeze(0).to(device)\n"
      ]
    },
    {
      "cell_type": "code",
      "execution_count": null,
      "metadata": {
        "colab": {
          "base_uri": "https://localhost:8080/",
          "height": 303
        },
        "id": "hK3hjamjSJ92",
        "outputId": "cf1619e7-9723-476b-d516-2b88579af7be"
      },
      "outputs": [
        {
          "output_type": "display_data",
          "data": {
            "text/plain": [
              "<Figure size 640x480 with 1 Axes>"
            ],
            "image/png": "[encoded data removed]"
          },
          "metadata": {}
        }
      ],
      "source": [
        "env.reset()\n",
        "plt.figure()\n",
        "if GRAYSCALE == 0:\n",
        "    plt.imshow(get_screen().cpu().squeeze(0).permute(1, 2, 0).numpy(),\n",
        "            interpolation='none')\n",
        "else:\n",
        "    plt.imshow(get_screen().cpu().squeeze(0).permute(\n",
        "        1, 2, 0).numpy().squeeze(), cmap='gray')\n",
        "plt.title('Example extracted screen')\n",
        "plt.show()\n"
      ]
    },
    {
      "cell_type": "code",
      "execution_count": null,
      "metadata": {
        "id": "v-YvYmCcSJ94"
      },
      "outputs": [],
      "source": [
        "env.close()"
      ]
    },
    {
      "cell_type": "code",
      "execution_count": null,
      "metadata": {
        "id": "O64clKg5SJ94",
        "outputId": "8c0f6f13-6046-4d4b-dfb3-126b217f3073",
        "colab": {
          "base_uri": "https://localhost:8080/"
        }
      },
      "outputs": [
        {
          "output_type": "stream",
          "name": "stdout",
          "text": [
            "Screen height:  60  | Width:  135\n"
          ]
        }
      ],
      "source": [
        "eps_threshold = 0.9 # original = 0.9\n",
        "\n",
        "init_screen = get_screen()\n",
        "_, _, screen_height, screen_width = init_screen.shape\n",
        "print(\"Screen height: \", screen_height,\" | Width: \", screen_width)\n",
        "\n",
        "# Get number of actions from gym action space\n",
        "n_actions = env.action_space.n\n",
        "\n",
        "policy_net = DQN2(screen_height, screen_width, n_actions).to(device)\n",
        "target_net = DQN2(screen_height, screen_width, n_actions).to(device)\n",
        "target_net.load_state_dict(policy_net.state_dict())\n",
        "target_net.eval()\n",
        "\n",
        "if LOAD_MODEL == True:\n",
        "    policy_net_checkpoint = torch.load('save_model/policy_net_best3.pt') # best 3 is the default best\n",
        "    target_net_checkpoint = torch.load('save_model/target_net_best3.pt')\n",
        "    policy_net.load_state_dict(policy_net_checkpoint)\n",
        "    target_net.load_state_dict(target_net_checkpoint)\n",
        "    policy_net.eval()\n",
        "    target_net.eval()\n",
        "    stop_training = True # if we want to load, then we don't train the network anymore\n",
        "\n",
        "optimizer = optim.RMSprop(policy_net.parameters())\n",
        "memory = ReplayMemory(MEMORY_SIZE)\n",
        "\n",
        "steps_done = 0\n",
        "\n",
        "# Action selection , if stop training == True, only exploitation\n",
        "def select_action(state, stop_training):\n",
        "    global steps_done\n",
        "    sample = random.random()\n",
        "    eps_threshold = EPS_END + (EPS_START - EPS_END) * \\\n",
        "        math.exp(-1. * steps_done / EPS_DECAY)\n",
        "    steps_done += 1\n",
        "    # print('Epsilon = ', eps_threshold, end='\\n')\n",
        "    if sample > eps_threshold or stop_training:\n",
        "        with torch.no_grad():\n",
        "            # t.max(1) will return largest column value of each row.\n",
        "            # second column on max result is index of where max element was\n",
        "            # found, so we pick action with the larger expected reward.\n",
        "        \n",
        "            return policy_net(state).max(1)[1].view(1, 1)\n",
        "    else:\n",
        "        return torch.tensor([[random.randrange(n_actions)]], device=device, dtype=torch.long)\n",
        "\n",
        "\n"
      ]
    },
    {
      "cell_type": "code",
      "execution_count": null,
      "metadata": {
        "id": "igR-xzhxSJ95"
      },
      "outputs": [],
      "source": [
        "# Plotting\n",
        "def plot_durations(score):\n",
        "    fig, ax = plt.subplots(figsize=(16,8))\n",
        "    durations_t = torch.tensor(episode_durations, dtype=torch.float)\n",
        "    episode_number = len(durations_t) \n",
        "    ax.set_title('Training...')\n",
        "    ax.set_xlabel('Episode')\n",
        "    ax.set_ylabel('Duration')\n",
        "    dur = durations_t.numpy()\n",
        "    plt.style.use('seaborn') #Change/Remove This If you Want\n",
        "#     ax.plot(dur, label= 'Score')\n",
        "    ax.fill_between(np.linspace(1,episode_number,episode_number),\n",
        "                    dur - dur.std(), dur + dur.std(), alpha=0.2)\n",
        "\n",
        "    plt.hlines(195, 0, episode_number, colors='red', linestyles=':', label='Win Threshold')\n",
        "    \n",
        "    # Take 100 episode averages and plot them too\n",
        "    if len(durations_t) >= 100:\n",
        "        means = durations_t.unfold(0, 100, 1).mean(1).view(-1)\n",
        "        last100_mean = means[episode_number -100].item()\n",
        "        means = torch.cat((torch.zeros(99), means))\n",
        "        ax.plot(means.numpy(), label= 'Last 100 mean')\n",
        "        print('Episode: ', episode_number, ' | Score: ', score, '| Last 100 mean = ', last100_mean)\n",
        "    ax.legend(loc='upper left')\n",
        "    fig.savefig('plots/' + graph_name)\n",
        "#     if is_ipython:\n",
        "#         display.clear_output(wait=True)\n",
        "#         display.display(plt.gcf())\n",
        "    fig.show()"
      ]
    },
    {
      "cell_type": "markdown",
      "metadata": {
        "id": "wHyas0HGSJ95"
      },
      "source": [
        "# Optimizer"
      ]
    },
    {
      "cell_type": "code",
      "execution_count": null,
      "metadata": {
        "id": "ZlUckqeISJ95"
      },
      "outputs": [],
      "source": [
        "# Training \n",
        "def optimize_model():\n",
        "    if len(memory) < BATCH_SIZE:\n",
        "        return\n",
        "    transitions = memory.sample(BATCH_SIZE)\n",
        "    # Transpose the batch (see https://stackoverflow.com/a/19343/3343043 for\n",
        "    # detailed explanation). This converts batch-array of Transitions\n",
        "    # to Transition of batch-arrays.\n",
        "    batch = Transition(*zip(*transitions))\n",
        "\n",
        "    # Compute a mask of non-final states and concatenate the batch elements\n",
        "    # (a final state would've been the one after which simulation ended)\n",
        "    non_final_mask = torch.tensor(tuple(map(lambda s: s is not None,\n",
        "                                          batch.next_state)), device=device, dtype=torch.bool)\n",
        "    non_final_next_states = torch.cat([s for s in batch.next_state\n",
        "                                                if s is not None])\n",
        "    # torch.cat concatenates tensor sequence\n",
        "    state_batch = torch.cat(batch.state)\n",
        "    action_batch = torch.cat(batch.action)\n",
        "    reward_batch = torch.cat(batch.reward).type(torch.FloatTensor).to(device)\n",
        "\n",
        "    # Compute Q(s_t, a) - the model computes Q(s_t), then we select the\n",
        "    # columns of actions taken. These are the actions which would've been taken\n",
        "    # for each batch state according to policy_net\n",
        "    state_action_values = policy_net(state_batch).gather(1, action_batch)\n",
        "\n",
        "    # Compute V(s_{t+1}) for all next states.\n",
        "    # Expected values of actions for non_final_next_states are computed based\n",
        "    # on the \"older\" target_net; selecting their best reward with max(1)[0].\n",
        "    # This is merged based on the mask, such that we'll have either the expected\n",
        "    # state value or 0 in case the state was final.\n",
        "    next_state_values = torch.zeros(BATCH_SIZE, device=device)\n",
        "    next_state_values[non_final_mask] = target_net(non_final_next_states).max(1)[0].detach()\n",
        "    # Compute the expected Q values\n",
        "    expected_state_action_values = (next_state_values * GAMMA) + reward_batch\n",
        "\n",
        "    # Compute Huber loss\n",
        "    loss = F.smooth_l1_loss(state_action_values, expected_state_action_values.unsqueeze(1))\n",
        "    plt.figure(2)\n",
        "    wandb.log({'Loss:': loss})\n",
        "\n",
        "    # Optimize the model\n",
        "    optimizer.zero_grad()\n",
        "    loss.backward()\n",
        "    for param in policy_net.parameters():\n",
        "        param.grad.data.clamp_(-1, 1)\n",
        "    optimizer.step()\n"
      ]
    },
    {
      "cell_type": "code",
      "execution_count": null,
      "metadata": {
        "id": "EsMgWDILSJ96"
      },
      "outputs": [],
      "source": [
        "episodes_trajectories = []\n",
        "episodes_after_stop = 100\n"
      ]
    },
    {
      "cell_type": "markdown",
      "metadata": {
        "id": "-1ABpIUkSJ96"
      },
      "source": [
        "# Main Loop\n",
        "Adjust the number of runs to see the effects on multiple trainings"
      ]
    },
    {
      "cell_type": "code",
      "execution_count": null,
      "metadata": {
        "id": "J-tSNKKoSJ96",
        "outputId": "525bdba4-fcdf-45a8-f53b-1fb004043ca7",
        "colab": {
          "base_uri": "https://localhost:8080/",
          "height": 391
        }
      },
      "outputs": [
        {
          "output_type": "stream",
          "name": "stderr",
          "text": [
            "  0%|          | 194/50000 [03:36<15:25:49,  1.12s/it]\n"
          ]
        },
        {
          "output_type": "error",
          "ename": "KeyboardInterrupt",
          "evalue": "ignored",
          "traceback": [
            "\u001b[0;31m---------------------------------------------------------------------------\u001b[0m",
            "\u001b[0;31mKeyboardInterrupt\u001b[0m                         Traceback (most recent call last)",
            "\u001b[0;32m<ipython-input-38-272f044eb4a7>\u001b[0m in \u001b[0;36m<cell line: 7>\u001b[0;34m()\u001b[0m\n\u001b[1;32m     67\u001b[0m                 \u001b[0mmean\u001b[0m \u001b[0;34m=\u001b[0m \u001b[0mmean\u001b[0m\u001b[0;34m/\u001b[0m\u001b[0mLAST_EPISODES_NUM\u001b[0m\u001b[0;34m\u001b[0m\u001b[0;34m\u001b[0m\u001b[0m\n\u001b[1;32m     68\u001b[0m                 \u001b[0;32mif\u001b[0m \u001b[0mmean\u001b[0m \u001b[0;34m<\u001b[0m \u001b[0mTRAINING_STOP\u001b[0m \u001b[0;32mand\u001b[0m \u001b[0mstop_training\u001b[0m \u001b[0;34m==\u001b[0m \u001b[0;32mFalse\u001b[0m\u001b[0;34m:\u001b[0m\u001b[0;34m\u001b[0m\u001b[0;34m\u001b[0m\u001b[0m\n\u001b[0;32m---> 69\u001b[0;31m                     \u001b[0moptimize_model\u001b[0m\u001b[0;34m(\u001b[0m\u001b[0;34m)\u001b[0m\u001b[0;34m\u001b[0m\u001b[0;34m\u001b[0m\u001b[0m\n\u001b[0m\u001b[1;32m     70\u001b[0m                 \u001b[0;32melse\u001b[0m\u001b[0;34m:\u001b[0m\u001b[0;34m\u001b[0m\u001b[0;34m\u001b[0m\u001b[0m\n\u001b[1;32m     71\u001b[0m                     \u001b[0mstop_training\u001b[0m \u001b[0;34m=\u001b[0m \u001b[0;32mTrue\u001b[0m\u001b[0;34m\u001b[0m\u001b[0;34m\u001b[0m\u001b[0m\n",
            "\u001b[0;32m<ipython-input-36-e6616d54190a>\u001b[0m in \u001b[0;36moptimize_model\u001b[0;34m()\u001b[0m\n\u001b[1;32m     31\u001b[0m     \u001b[0;31m# state value or 0 in case the state was final.\u001b[0m\u001b[0;34m\u001b[0m\u001b[0;34m\u001b[0m\u001b[0m\n\u001b[1;32m     32\u001b[0m     \u001b[0mnext_state_values\u001b[0m \u001b[0;34m=\u001b[0m \u001b[0mtorch\u001b[0m\u001b[0;34m.\u001b[0m\u001b[0mzeros\u001b[0m\u001b[0;34m(\u001b[0m\u001b[0mBATCH_SIZE\u001b[0m\u001b[0;34m,\u001b[0m \u001b[0mdevice\u001b[0m\u001b[0;34m=\u001b[0m\u001b[0mdevice\u001b[0m\u001b[0;34m)\u001b[0m\u001b[0;34m\u001b[0m\u001b[0;34m\u001b[0m\u001b[0m\n\u001b[0;32m---> 33\u001b[0;31m     \u001b[0mnext_state_values\u001b[0m\u001b[0;34m[\u001b[0m\u001b[0mnon_final_mask\u001b[0m\u001b[0;34m]\u001b[0m \u001b[0;34m=\u001b[0m \u001b[0mtarget_net\u001b[0m\u001b[0;34m(\u001b[0m\u001b[0mnon_final_next_states\u001b[0m\u001b[0;34m)\u001b[0m\u001b[0;34m.\u001b[0m\u001b[0mmax\u001b[0m\u001b[0;34m(\u001b[0m\u001b[0;36m1\u001b[0m\u001b[0;34m)\u001b[0m\u001b[0;34m[\u001b[0m\u001b[0;36m0\u001b[0m\u001b[0;34m]\u001b[0m\u001b[0;34m.\u001b[0m\u001b[0mdetach\u001b[0m\u001b[0;34m(\u001b[0m\u001b[0;34m)\u001b[0m\u001b[0;34m\u001b[0m\u001b[0;34m\u001b[0m\u001b[0m\n\u001b[0m\u001b[1;32m     34\u001b[0m     \u001b[0;31m# Compute the expected Q values\u001b[0m\u001b[0;34m\u001b[0m\u001b[0;34m\u001b[0m\u001b[0m\n\u001b[1;32m     35\u001b[0m     \u001b[0mexpected_state_action_values\u001b[0m \u001b[0;34m=\u001b[0m \u001b[0;34m(\u001b[0m\u001b[0mnext_state_values\u001b[0m \u001b[0;34m*\u001b[0m \u001b[0mGAMMA\u001b[0m\u001b[0;34m)\u001b[0m \u001b[0;34m+\u001b[0m \u001b[0mreward_batch\u001b[0m\u001b[0;34m\u001b[0m\u001b[0;34m\u001b[0m\u001b[0m\n",
            "\u001b[0;31mKeyboardInterrupt\u001b[0m: "
          ]
        },
        {
          "output_type": "display_data",
          "data": {
            "text/plain": [
              "<Figure size 640x480 with 0 Axes>"
            ]
          },
          "metadata": {}
        }
      ],
      "source": [
        "from tqdm import tqdm\n",
        "\n",
        "runs = 5\n",
        "\n",
        "# MAIN LOOP\n",
        "stop_training = False\n",
        "for j in range(runs):\n",
        "    mean_last = deque([0] * LAST_EPISODES_NUM, LAST_EPISODES_NUM)\n",
        "    policy_net = DQN2(screen_height, screen_width, n_actions).to(device)\n",
        "    target_net = DQN2(screen_height, screen_width, n_actions).to(device)\n",
        "    target_net.load_state_dict(policy_net.state_dict())\n",
        "    target_net.eval()\n",
        "\n",
        "    optimizer = optim.RMSprop(policy_net.parameters())\n",
        "    memory = ReplayMemory(MEMORY_SIZE)\n",
        "    \n",
        "    count_final = 0\n",
        "    \n",
        "    steps_done = 0\n",
        "    episode_durations = []\n",
        "    for i_episode in tqdm(range(N_EPISODES)):\n",
        "        # Initialize the environment and state\n",
        "        env.reset()\n",
        "        init_screen = get_screen()\n",
        "        screens = deque([init_screen] * FRAMES, FRAMES)\n",
        "        state = torch.cat(list(screens), dim=1)\n",
        "\n",
        "        for t in count():\n",
        "\n",
        "            # Select and perform an action\n",
        "            #print(state.shape)\n",
        "            action = select_action(state, stop_training)\n",
        "            #print(env.step(action.item()))\n",
        "            state_variables, _, done, truncated,_ = env.step(action.item())\n",
        "\n",
        "            # Observe new state\n",
        "            screens.append(get_screen())\n",
        "            next_state = torch.cat(list(screens), dim=1) if not done else None\n",
        "\n",
        "            # Reward modification for better stability\n",
        "            x, x_dot, theta, theta_dot = state_variables\n",
        "            r1 = (env.x_threshold - abs(x)) / env.x_threshold - 0.8\n",
        "            r2 = (env.theta_threshold_radians - abs(theta)) / env.theta_threshold_radians - 0.5\n",
        "            reward = r1 + r2\n",
        "            reward = torch.tensor([reward], device=device)\n",
        "            if t >= END_SCORE-1:\n",
        "                reward = reward + 20\n",
        "                done = 1\n",
        "            else: \n",
        "                if done:\n",
        "                    reward = reward - 20 \n",
        "\n",
        "            # Store the transition in memory\n",
        "            memory.push(state, action, next_state, reward)\n",
        "\n",
        "            # Move to the next state\n",
        "            state = next_state\n",
        "\n",
        "            # Perform one step of the optimization (on the target network)\n",
        "            if done:\n",
        "                episode_durations.append(t + 1)\n",
        "                mean_last.append(t + 1)\n",
        "                mean = 0\n",
        "                wandb.log({'Episode duration': t+1 , 'Episode number': i_episode})\n",
        "                for i in range(LAST_EPISODES_NUM):\n",
        "                    mean = mean_last[i] + mean\n",
        "                mean = mean/LAST_EPISODES_NUM\n",
        "                if mean < TRAINING_STOP and stop_training == False:\n",
        "                    optimize_model()\n",
        "                else:\n",
        "                    stop_training = True\n",
        "                break\n",
        "\n",
        "        # Update the target network, copying all weights and biases in DQN\n",
        "        if i_episode % TARGET_UPDATE == 0:\n",
        "            target_net.load_state_dict(policy_net.state_dict())\n",
        "        if stop_training == True:\n",
        "            count_final += 1\n",
        "            if count_final >= 100:\n",
        "                break\n",
        "\n",
        "            \n",
        "    print('Complete')\n",
        "    stop_training = False\n",
        "    episodes_trajectories.append(episode_durations)\n",
        "    \n",
        "plt.ioff()\n",
        "plt.show()"
      ]
    },
    {
      "cell_type": "markdown",
      "metadata": {
        "id": "BFpEUCMzSJ97"
      },
      "source": [
        "# Data processing for plotting\n",
        "Obtain data from the best runs (aka, the ones where there was no vanishing gradients etc. Adjusting the model may result in more stable training!)"
      ]
    },
    {
      "cell_type": "code",
      "execution_count": null,
      "metadata": {
        "id": "ea8HWmv6SJ97"
      },
      "outputs": [],
      "source": [
        "# Cherry picking best runs\n",
        "best = []\n",
        "best.append(episodes_trajectories[0])\n",
        "best.append(episodes_trajectories[1])\n",
        "best.append(episodes_trajectories[2])\n",
        "best.append(episodes_trajectories[3])\n",
        "#best.append(episodes_trajectories[5])\n",
        "#best.append(episodes_trajectories[6])"
      ]
    },
    {
      "cell_type": "code",
      "execution_count": null,
      "metadata": {
        "id": "eyuwpOKOSJ97"
      },
      "outputs": [],
      "source": [
        "maximum = 0\n",
        "for i in range(len(best)):\n",
        "    maximum = max(len(best[i]), maximum)\n",
        "    \n",
        "# Fill the episodes to make them the same length\n",
        "for i in range(len(best)):\n",
        "    length = len(best[i])\n",
        "    for j in range(maximum - len(best[i])):\n",
        "        best[i].append(best[i][j+length-100])\n",
        "    best[i] = np.asarray(best[i])\n",
        "    \n",
        "best = np.asarray(best)"
      ]
    },
    {
      "cell_type": "code",
      "execution_count": null,
      "metadata": {
        "id": "fiqB0OpuSJ98"
      },
      "outputs": [],
      "source": [
        "# To numpy\n",
        "score_mean = np.zeros(maximum)\n",
        "score_std = np.zeros(maximum)\n",
        "last100_mean = np.zeros(maximum)\n",
        "print(best[:, max(0, -99):1].mean())\n",
        "for i in range(maximum):\n",
        "    score_mean[i]  = best[:, i].mean()\n",
        "    score_std[i] = best[:, i].std()\n",
        "    last100_mean[i] = best[:, max(0, i-50):min(maximum, i+50)].mean()\n",
        "print(len(last100_mean))"
      ]
    },
    {
      "cell_type": "markdown",
      "metadata": {
        "id": "gcTVmKuaSJ98"
      },
      "source": [
        "# Plotting\n",
        "Plot behaviour of combined runs"
      ]
    },
    {
      "cell_type": "code",
      "execution_count": null,
      "metadata": {
        "id": "D0prl0etSJ98"
      },
      "outputs": [],
      "source": [
        "t = np.arange(0, maximum, 1)\n",
        "\n",
        "# from scipy.interpolate import make_interp_spline # make smooth version\n",
        "# interpol = make_interp_spline(t, score_mean, k=3)  # type: BSpline\n",
        "\n",
        "fig, ax = plt.subplots(figsize=(16, 8))\n",
        "ax.fill_between(t, np.maximum(score_mean - score_std, 0),\n",
        "                np.minimum(score_mean + score_std, 200), color='b', alpha=0.2)\n",
        "# ax.legend(loc='upper right')\n",
        "ax.set_xlabel('Episode')\n",
        "ax.set_ylabel('Score')\n",
        "# ax.set_title('Inverted Pendulum Training Plot from Pixels')\n",
        "ax.plot(t, score_mean, label='Score Mean')\n",
        "ax.plot(t, last100_mean, color='purple', linestyle='dotted', label='Smoothed mean')\n",
        "ax.legend()\n",
        "fig.savefig('score.png')\n",
        "plt.show()"
      ]
    }
  ],
  "metadata": {
    "kernelspec": {
      "display_name": "Python 3",
      "name": "python3"
    },
    "language_info": {
      "name": "python"
    },
    "toc": {
      "base_numbering": 1,
      "nav_menu": {},
      "number_sections": true,
      "sideBar": true,
      "skip_h1_title": false,
      "title_cell": "Table of Contents",
      "title_sidebar": "Contents",
      "toc_cell": false,
      "toc_position": {},
      "toc_section_display": true,
      "toc_window_display": false
    },
    "colab": {
      "provenance": []
    },
    "accelerator": "GPU",
    "gpuClass": "standard"
  },
  "nbformat": 4,
  "nbformat_minor": 0
}